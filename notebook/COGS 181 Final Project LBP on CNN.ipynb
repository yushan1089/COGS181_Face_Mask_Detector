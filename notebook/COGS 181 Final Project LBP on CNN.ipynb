{
 "cells": [
  {
   "cell_type": "markdown",
   "metadata": {},
   "source": [
    "# COGS 181 Final Project LBP on CNN\n",
    "\n",
    "### Yushan Wang A14459085\n",
    "### Jiemin Tang A"
   ]
  },
  {
   "cell_type": "markdown",
   "metadata": {},
   "source": [
    "### Import package"
   ]
  },
  {
   "cell_type": "code",
   "execution_count": 1,
   "metadata": {},
   "outputs": [
    {
     "name": "stderr",
     "output_type": "stream",
     "text": [
      "Using TensorFlow backend.\n"
     ]
    }
   ],
   "source": [
    "from __future__ import print_function\n",
    "import keras\n",
    "from keras.models import Sequential\n",
    "from keras.layers import Dense, Dropout, Flatten\n",
    "from keras.layers import Conv2D, MaxPooling2D\n",
    "from keras import backend as K\n",
    "\n",
    "import os\n",
    "import cv2\n",
    "import matplotlib.pyplot as plt\n",
    "import math\n",
    "import numpy as np\n",
    "import pandas as pd \n",
    "from random import shuffle\n",
    "from random import randint\n",
    "from sklearn.svm import LinearSVC\n",
    "from sklearn.datasets import load_digits\n",
    "from sklearn.manifold import MDS\n",
    "from sklearn.decomposition import NMF\n",
    "\n",
    "# It should print \"Using TensorFlow backend\""
   ]
  },
  {
   "cell_type": "markdown",
   "metadata": {},
   "source": [
    "### Helper function"
   ]
  },
  {
   "cell_type": "code",
   "execution_count": 2,
   "metadata": {},
   "outputs": [],
   "source": [
    "def imshow(inp, title=None):\n",
    "    inp = inp.numpy().transpose((1, 2, 0))\n",
    "    mean = np.array([0.485, 0.456, 0.406])\n",
    "    std = np.array([0.229, 0.224, 0.225])\n",
    "    inp = std * inp + mean\n",
    "    inp = np.clip(inp, 0, 1)\n",
    "    plt.figure(figsize=(20,20))\n",
    "    plt.imshow(inp)\n",
    "\n",
    "    if title is not None:\n",
    "        plt.title(title)\n",
    "    plt.pause(0.001)"
   ]
  },
  {
   "cell_type": "code",
   "execution_count": 3,
   "metadata": {},
   "outputs": [],
   "source": [
    "def smallest(num1,num2,num3):\n",
    "    if(num1<num2 and num1<num3):\n",
    "        return num1\n",
    "    elif (num2<num3):\n",
    "        return num2\n",
    "    else:\n",
    "        return num3"
   ]
  },
  {
   "cell_type": "code",
   "execution_count": 4,
   "metadata": {},
   "outputs": [],
   "source": [
    "def eucldist(x,y): \n",
    "    return math.sqrt(sum([(a - b) ** 2 for a, b in zip(x, y)]))"
   ]
  },
  {
   "cell_type": "code",
   "execution_count": 5,
   "metadata": {},
   "outputs": [],
   "source": [
    "def DMS(p,q):\n",
    "    if len(p) == 8 & len(q) == 8:\n",
    "        p9 = p.copy()\n",
    "        q9 = q.copy()\n",
    "        \n",
    "        p9.append(0)\n",
    "        q9.append(0)\n",
    "        revp = p9[::-1]\n",
    "        revq = q9[::-1]\n",
    "        \n",
    "        serp = pd.Series(p9)\n",
    "        serq = pd.Series(q9)\n",
    "        serrevp = pd.Series(revp) \n",
    "        serrevq = pd.Series(revq) \n",
    "        cdfp = serp.cumsum()\n",
    "        cdfq = serq.cumsum()\n",
    "        cdfrevp = serrevp.cumsum() \n",
    "        cdfrevq = serrevq.cumsum()\n",
    "        \n",
    "        a1 = eucldist(cdfp.tolist(), cdfq.tolist())\n",
    "        a2 = eucldist(cdfrevp.tolist(), cdfq.tolist())\n",
    "        a3 = eucldist(cdfp.tolist(), cdfrevq.tolist())\n",
    "        x = smallest(a1,a2,a3) \n",
    "    return x"
   ]
  },
  {
   "cell_type": "code",
   "execution_count": 6,
   "metadata": {},
   "outputs": [],
   "source": [
    "'''\n",
    "This is the file for the local Binary Pattern\n",
    "'''\n",
    "\n",
    "from skimage import feature\n",
    "import numpy as np\n",
    "import random \n",
    "import os\n",
    "\n",
    "class LocalBinaryPatterns:\n",
    "    # init_function\n",
    "    def __init__(self, numPoints, radius, center):\n",
    "        # store the center of the LBP\n",
    "        # store the number of points and radius\n",
    "        self.numPoints = numPoints\n",
    "        self.radius = radius\n",
    "        self.center = center\n",
    "\n",
    "    # do the LBP transformation and transform to histogram\n",
    "    def histogram(self, image, eps=1e-6):\n",
    "        lbp = feature.local_binary_pattern(image, self.numPoints,self.radius, method=\"uniform\")\n",
    "        hist, _ = np.histogram(lbp.ravel(),\tbins=np.arange(0, self.numPoints + 3),range=(0, self.numPoints + 2))\n",
    "        hist = hist.astype(\"float\")\n",
    "        hist /= (hist.sum() + eps)\n",
    "        # return the histogram of Local Binary Patterns\n",
    "        return hist"
   ]
  },
  {
   "cell_type": "markdown",
   "metadata": {},
   "source": [
    "### Initialize path directories for dataset"
   ]
  },
  {
   "cell_type": "code",
   "execution_count": 7,
   "metadata": {},
   "outputs": [],
   "source": [
    "# paths for thw two dataset folders\n",
    "mask = r'dataset/mask'\n",
    "no_mask = r'dataset/no_mask'"
   ]
  },
  {
   "cell_type": "markdown",
   "metadata": {},
   "source": [
    "### Load and Store images"
   ]
  },
  {
   "cell_type": "code",
   "execution_count": 8,
   "metadata": {},
   "outputs": [],
   "source": [
    "# store images from the dataset\n",
    "images = []\n",
    "labels = []\n",
    "for file in list(os.listdir(mask)):\n",
    "    images.append(cv2.imread(mask+'/'+file))\n",
    "    labels.append(1)\n",
    "    \n",
    "for file in list(os.listdir(no_mask)):\n",
    "    images.append(cv2.imread(no_mask+'/'+file)) \n",
    "    labels.append(0)\n",
    "    \n",
    "images = np.array(images)"
   ]
  },
  {
   "cell_type": "markdown",
   "metadata": {},
   "source": [
    "### Initialize the LBP"
   ]
  },
  {
   "cell_type": "code",
   "execution_count": 9,
   "metadata": {},
   "outputs": [],
   "source": [
    "lbp = LocalBinaryPatterns(24, 8, 0)"
   ]
  },
  {
   "cell_type": "markdown",
   "metadata": {},
   "source": [
    "### shuffle and split data"
   ]
  },
  {
   "cell_type": "code",
   "execution_count": 10,
   "metadata": {},
   "outputs": [],
   "source": [
    "data_size = len(labels)\n",
    "index = list(range(data_size))\n",
    "shuffle(index)\n",
    "index = np.array(index)\n",
    "images =   images[index]\n",
    "labels =   np.array(labels)[index]\n",
    "\n",
    "image_train =  images[:int(0.8*data_size)]\n",
    "y_train =  labels[:int(0.8*data_size)] \n",
    "\n",
    "image_test =  images[int(0.8*data_size):]\n",
    "y_test =   labels[int(0.8*data_size):]"
   ]
  },
  {
   "cell_type": "markdown",
   "metadata": {},
   "source": [
    "### Preview data\n",
    "#### Show random image with corresponding label"
   ]
  },
  {
   "cell_type": "code",
   "execution_count": 11,
   "metadata": {},
   "outputs": [
    {
     "name": "stdout",
     "output_type": "stream",
     "text": [
      "Without Mask\n"
     ]
    },
    {
     "data": {
      "image/png": "[encoded data removed]",
      "text/plain": [
       "<Figure size 432x288 with 1 Axes>"
      ]
     },
     "metadata": {
      "needs_background": "light"
     },
     "output_type": "display_data"
    }
   ],
   "source": [
    "rand_int = randint(0, len(image_test))\n",
    "plt.imshow(image_test[rand_int][:,:,::-1])\n",
    "if y_test[rand_int] == 1:\n",
    "    print('With Mask')\n",
    "else:\n",
    "    print('Without Mask')"
   ]
  },
  {
   "cell_type": "markdown",
   "metadata": {},
   "source": [
    "### Fit the MDS model"
   ]
  },
  {
   "cell_type": "code",
   "execution_count": 12,
   "metadata": {},
   "outputs": [
    {
     "name": "stdout",
     "output_type": "stream",
     "text": [
      "256\n"
     ]
    }
   ],
   "source": [
    "import itertools\n",
    "n = 8\n",
    "lst = list(map(list, itertools.product([0, 1], repeat=n)))\n",
    "print(len(lst))"
   ]
  },
  {
   "cell_type": "code",
   "execution_count": 13,
   "metadata": {},
   "outputs": [],
   "source": [
    "#print(len(lst[0]))\n",
    "delta_matrix = np.zeros((len(lst), len(lst))) \n",
    "for i in range(0,len(lst)):\n",
    "    for j in range(0,len(lst)):\n",
    "        if i != j:\n",
    "            delta_matrix[i,j] = DMS(lst[i],lst[j]) \n",
    "        else:\n",
    "            delta_matrix[i,j] = 0"
   ]
  },
  {
   "cell_type": "code",
   "execution_count": 14,
   "metadata": {},
   "outputs": [
    {
     "data": {
      "text/plain": [
       "MDS(dissimilarity='precomputed', eps=0.001, max_iter=300, metric=True,\n",
       "    n_components=3, n_init=4, n_jobs=None, random_state=None, verbose=0)"
      ]
     },
     "execution_count": 14,
     "metadata": {},
     "output_type": "execute_result"
    }
   ],
   "source": [
    "embedding = MDS(n_components=3,dissimilarity='precomputed')\n",
    "embedding.fit(delta_matrix)\n"
   ]
  },
  {
   "cell_type": "code",
   "execution_count": 15,
   "metadata": {},
   "outputs": [],
   "source": [
    "NMF_model = NMF(n_components=3, init='random', random_state=0)"
   ]
  },
  {
   "cell_type": "markdown",
   "metadata": {},
   "source": [
    "### Transform image to LBP code\n",
    "\n",
    "#### Training_image"
   ]
  },
  {
   "cell_type": "code",
   "execution_count": 16,
   "metadata": {},
   "outputs": [
    {
     "name": "stdout",
     "output_type": "stream",
     "text": [
      "100\n",
      "200\n",
      "300\n",
      "400\n",
      "500\n",
      "600\n",
      "700\n",
      "800\n",
      "900\n",
      "1000\n",
      "1100\n",
      "1200\n",
      "1300\n",
      "1400\n",
      "1500\n",
      "1600\n",
      "1700\n",
      "1800\n",
      "1900\n",
      "2000\n",
      "2100\n",
      "2200\n"
     ]
    }
   ],
   "source": [
    "data= []\n",
    "num =0\n",
    "for image in image_train:\n",
    "    num = num + 1\n",
    "    bin_img = []\n",
    "    gray = cv2.cvtColor(image, cv2.COLOR_BGR2GRAY)\n",
    "    lbp_image = feature.local_binary_pattern(gray, 24, 8, method='uniform')\n",
    "    lbp_image = lbp_image.tolist()\n",
    "    for row in lbp_image:\n",
    "        bin_row = []\n",
    "        for input in row:\n",
    "            bin_pt = [int(x) for x in '{:08b}'.format(int(input))]\n",
    "            bin_row.append(bin_pt)\n",
    "        bin_row = np.reshape(np.array(bin_row),(160,8)) \n",
    "        bin_row = NMF_model.fit_transform(bin_row)\n",
    "        bin_row = np.reshape(bin_row,(160,3))\n",
    "        bin_img.append(bin_row)\n",
    "    bin_img = np.reshape(bin_img,(160,160,3))\n",
    "    data.append(bin_img)\n",
    "    if num%100 == 0:\n",
    "        print(num)\n"
   ]
  },
  {
   "cell_type": "code",
   "execution_count": 17,
   "metadata": {},
   "outputs": [
    {
     "name": "stdout",
     "output_type": "stream",
     "text": [
      "100\n",
      "200\n",
      "300\n",
      "400\n",
      "500\n"
     ]
    }
   ],
   "source": [
    "num =0\n",
    "for image in image_test:\n",
    "    num = num+1\n",
    "    bin_img = []\n",
    "    gray = cv2.cvtColor(image, cv2.COLOR_BGR2GRAY)\n",
    "    lbp_image = feature.local_binary_pattern(gray, 24, 8, method='uniform')\n",
    "    lbp_image = lbp_image.tolist()\n",
    "    for row in lbp_image:\n",
    "        bin_row = []\n",
    "        for input in row:\n",
    "            bin_pt = [int(x) for x in '{:08b}'.format(int(input))]\n",
    "            bin_row.append(bin_pt)\n",
    "        bin_row = np.reshape(np.array(bin_row),(160,8)) \n",
    "        bin_row = NMF_model.fit_transform(bin_row)\n",
    "        bin_row = np.reshape(bin_row,(160,3))\n",
    "        bin_img.append(bin_row)\n",
    "    bin_img = np.reshape(bin_img,(160,160,3))\n",
    "    if num%100 == 0:\n",
    "        print(num)\n",
    "    data.append(bin_img)"
   ]
  },
  {
   "cell_type": "markdown",
   "metadata": {},
   "source": [
    "### shuffle and split data"
   ]
  },
  {
   "cell_type": "code",
   "execution_count": 29,
   "metadata": {},
   "outputs": [
    {
     "name": "stdout",
     "output_type": "stream",
     "text": [
      "y shape (2767, 2)\n",
      "x shape (2767, 160, 160, 3)\n"
     ]
    }
   ],
   "source": [
    "# store labels (mask = 1,0 and  no mask = 0,1)\n",
    "n_mask = len(list(os.listdir(mask)))\n",
    "n_no_mask = len(list(os.listdir(no_mask)))\n",
    "labels = np.zeros(( n_mask  + n_no_mask, 2  ))\n",
    "labels[:n_mask,0] = 1\n",
    "labels[n_mask:,1] = 1\n",
    "print('y shape',labels.shape)   #(1376, 2)\n",
    "print('x shape',images.shape)   #(1376, 160, 160, 3)"
   ]
  },
  {
   "cell_type": "code",
   "execution_count": 30,
   "metadata": {},
   "outputs": [],
   "source": [
    "data = np.array(data)\n",
    "data_size = len(labels)\n",
    "index = list(range(data_size))\n",
    "shuffle(index)\n",
    "index = np.array(index)\n",
    "images =   images[index]\n",
    "labels =   np.array(labels)[index]\n",
    "\n",
    "image_train =  images[:int(0.8*data_size)]\n",
    "y_train =  labels[:int(0.8*data_size)] \n",
    "x_train = data[:int(0.8*data_size)]\n",
    "\n",
    "image_test =  images[int(0.8*data_size):]\n",
    "y_test =   labels[int(0.8*data_size):]\n",
    "x_test = data[int(0.8*data_size):]"
   ]
  },
  {
   "cell_type": "markdown",
   "metadata": {},
   "source": [
    "### Initialize parameters"
   ]
  },
  {
   "cell_type": "code",
   "execution_count": 31,
   "metadata": {},
   "outputs": [],
   "source": [
    "img_rows, img_cols = images.shape[1], images.shape[2]\n",
    "input_shape = (images.shape[1], images.shape[2], images.shape[3])\n",
    "batch_size = 1\n",
    "num_classes = 2"
   ]
  },
  {
   "cell_type": "code",
   "execution_count": 36,
   "metadata": {},
   "outputs": [
    {
     "name": "stdout",
     "output_type": "stream",
     "text": [
      "Model: \"sequential_6\"\n",
      "_________________________________________________________________\n",
      "Layer (type)                 Output Shape              Param #   \n",
      "=================================================================\n",
      "conv2d_16 (Conv2D)           (None, 158, 158, 32)      896       \n",
      "_________________________________________________________________\n",
      "max_pooling2d_16 (MaxPooling (None, 79, 79, 32)        0         \n",
      "_________________________________________________________________\n",
      "conv2d_17 (Conv2D)           (None, 77, 77, 32)        9248      \n",
      "_________________________________________________________________\n",
      "max_pooling2d_17 (MaxPooling (None, 38, 38, 32)        0         \n",
      "_________________________________________________________________\n",
      "conv2d_18 (Conv2D)           (None, 36, 36, 64)        18496     \n",
      "_________________________________________________________________\n",
      "max_pooling2d_18 (MaxPooling (None, 18, 18, 64)        0         \n",
      "_________________________________________________________________\n",
      "dropout_6 (Dropout)          (None, 18, 18, 64)        0         \n",
      "_________________________________________________________________\n",
      "flatten_6 (Flatten)          (None, 20736)             0         \n",
      "_________________________________________________________________\n",
      "dense_16 (Dense)             (None, 64)                1327168   \n",
      "_________________________________________________________________\n",
      "dense_17 (Dense)             (None, 32)                2080      \n",
      "_________________________________________________________________\n",
      "dense_18 (Dense)             (None, 2)                 66        \n",
      "=================================================================\n",
      "Total params: 1,357,954\n",
      "Trainable params: 1,357,954\n",
      "Non-trainable params: 0\n",
      "_________________________________________________________________\n"
     ]
    }
   ],
   "source": [
    "model = Sequential()\n",
    "model.add(Conv2D(32, kernel_size=(3, 3),\n",
    "                 activation='sigmoid',\n",
    "                 input_shape=input_shape))\n",
    "model.add(MaxPooling2D(pool_size=(2, 2)))\n",
    "model.add(Conv2D(32, (3, 3), activation='sigmoid'))\n",
    "model.add(MaxPooling2D(pool_size=(2, 2)))\n",
    "model.add(Conv2D(64, (3, 3), activation='sigmoid'))\n",
    "model.add(MaxPooling2D(pool_size=(2, 2)))\n",
    "model.add(Dropout(0.25))\n",
    "model.add(Flatten())\n",
    "model.add(Dense(64, activation='sigmoid'))\n",
    "model.add(Dense(32, activation='sigmoid'))\n",
    "model.add(Dense(num_classes, activation='sigmoid'))\n",
    "\n",
    "# compile the model\n",
    "model.compile(loss=keras.losses.categorical_crossentropy,\n",
    "              optimizer=keras.optimizers.Adam(learning_rate=0.001),\n",
    "              metrics=['accuracy'])\n",
    "model.summary()"
   ]
  },
  {
   "cell_type": "code",
   "execution_count": 37,
   "metadata": {},
   "outputs": [
    {
     "name": "stdout",
     "output_type": "stream",
     "text": [
      "Train on 2213 samples, validate on 554 samples\n",
      "Epoch 1/10\n",
      "2213/2213 [==============================] - 139s 63ms/step - loss: 0.6930 - accuracy: 0.5269 - val_loss: 0.6913 - val_accuracy: 0.5307\n",
      "Epoch 2/10\n",
      "2213/2213 [==============================] - 138s 62ms/step - loss: 0.6916 - accuracy: 0.5350 - val_loss: 0.6922 - val_accuracy: 0.5307\n",
      "Epoch 3/10\n",
      "2213/2213 [==============================] - 145s 65ms/step - loss: 0.6918 - accuracy: 0.5386 - val_loss: 0.6913 - val_accuracy: 0.5307\n",
      "Epoch 4/10\n",
      "2213/2213 [==============================] - 139s 63ms/step - loss: 0.6914 - accuracy: 0.5386 - val_loss: 0.6913 - val_accuracy: 0.5307\n",
      "Epoch 5/10\n",
      "2213/2213 [==============================] - 140s 63ms/step - loss: 0.6911 - accuracy: 0.5386 - val_loss: 0.6913 - val_accuracy: 0.5307\n",
      "Epoch 6/10\n",
      "2213/2213 [==============================] - 142s 64ms/step - loss: 0.6909 - accuracy: 0.5386 - val_loss: 0.6913 - val_accuracy: 0.5307\n",
      "Epoch 7/10\n",
      "2213/2213 [==============================] - 105s 47ms/step - loss: 0.6907 - accuracy: 0.5386 - val_loss: 0.6917 - val_accuracy: 0.5307\n",
      "Epoch 8/10\n",
      "2213/2213 [==============================] - 77s 35ms/step - loss: 0.6908 - accuracy: 0.5386 - val_loss: 0.6916 - val_accuracy: 0.5307\n",
      "Epoch 9/10\n",
      "2213/2213 [==============================] - 78s 35ms/step - loss: 0.6902 - accuracy: 0.5386 - val_loss: 0.6913 - val_accuracy: 0.5307\n",
      "Epoch 10/10\n",
      "2213/2213 [==============================] - 74s 34ms/step - loss: 0.6906 - accuracy: 0.5386 - val_loss: 0.6913 - val_accuracy: 0.5307\n"
     ]
    },
    {
     "data": {
      "text/plain": [
       "<keras.callbacks.callbacks.History at 0x1678b882808>"
      ]
     },
     "execution_count": 37,
     "metadata": {},
     "output_type": "execute_result"
    }
   ],
   "source": [
    "model.fit(x_train, y_train,\n",
    "          batch_size=batch_size,\n",
    "          epochs=10,\n",
    "          verbose=1,\n",
    "          validation_data=(x_test, y_test))"
   ]
  },
  {
   "cell_type": "code",
   "execution_count": null,
   "metadata": {},
   "outputs": [],
   "source": []
  }
 ],
 "metadata": {
  "kernelspec": {
   "display_name": "Python 3",
   "language": "python",
   "name": "python3"
  },
  "language_info": {
   "codemirror_mode": {
    "name": "ipython",
    "version": 3
   },
   "file_extension": ".py",
   "mimetype": "text/x-python",
   "name": "python",
   "nbconvert_exporter": "python",
   "pygments_lexer": "ipython3",
   "version": "3.7.6"
  }
 },
 "nbformat": 4,
 "nbformat_minor": 4
}
