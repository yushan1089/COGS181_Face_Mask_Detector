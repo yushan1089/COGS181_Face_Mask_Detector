{
 "cells": [
  {
   "cell_type": "markdown",
   "metadata": {},
   "source": [
    "# COGS 181 Final Project GRAYSCALE Image dataset\n",
    "\n",
    "\n",
    "### Yushan Wang A14459085\n",
    "### Jiemin Tang A13948547"
   ]
  },
  {
   "cell_type": "markdown",
   "metadata": {},
   "source": [
    "### Import package"
   ]
  },
  {
   "cell_type": "code",
   "execution_count": 1,
   "metadata": {},
   "outputs": [
    {
     "name": "stderr",
     "output_type": "stream",
     "text": [
      "Using TensorFlow backend.\n"
     ]
    }
   ],
   "source": [
    "from __future__ import print_function\n",
    "import keras\n",
    "from keras.models import Sequential\n",
    "from keras.layers import Dense, Dropout, Flatten\n",
    "from keras.layers import Conv2D, MaxPooling2D\n",
    "from keras import backend as K\n",
    "\n",
    "import os\n",
    "import cv2\n",
    "import matplotlib.pyplot as plt\n",
    "import numpy as np\n",
    "from random import shuffle\n",
    "from random import randint\n",
    "\n",
    "# It should print \"Using TensorFlow backend\""
   ]
  },
  {
   "cell_type": "markdown",
   "metadata": {},
   "source": [
    "### Helper function"
   ]
  },
  {
   "cell_type": "code",
   "execution_count": 2,
   "metadata": {},
   "outputs": [],
   "source": [
    "def imshow(inp, title=None):\n",
    "    inp = inp.numpy().transpose((1, 2, 0))\n",
    "    mean = np.array([0.485, 0.456, 0.406])\n",
    "    std = np.array([0.229, 0.224, 0.225])\n",
    "    inp = std * inp + mean\n",
    "    inp = np.clip(inp, 0, 1)\n",
    "    plt.figure(figsize=(20,20))\n",
    "    plt.imshow(inp)\n",
    "\n",
    "    if title is not None:\n",
    "        plt.title(title)\n",
    "    plt.pause(0.001)"
   ]
  },
  {
   "cell_type": "markdown",
   "metadata": {},
   "source": [
    "### Initialize path directories for dataset"
   ]
  },
  {
   "cell_type": "code",
   "execution_count": 3,
   "metadata": {},
   "outputs": [],
   "source": [
    "# paths for thw two dataset folders\n",
    "mask = r'dataset/mask'\n",
    "no_mask = r'dataset/no_mask'"
   ]
  },
  {
   "cell_type": "markdown",
   "metadata": {},
   "source": [
    "### Load and Store images"
   ]
  },
  {
   "cell_type": "code",
   "execution_count": 4,
   "metadata": {},
   "outputs": [],
   "source": [
    "# store images from the dataset\n",
    "data=[]\n",
    "images = []\n",
    "for file in list(os.listdir(mask)):\n",
    "    data.append(cv2.imread(mask+'/'+file))\n",
    "    images.append(cv2.cvtColor(cv2.imread(mask+'/'+file),cv2.COLOR_BGR2GRAY))\n",
    "    \n",
    "for file in list(os.listdir(no_mask)):\n",
    "    data.append(cv2.imread(no_mask+'/'+file))\n",
    "    images.append(cv2.cvtColor(cv2.imread(no_mask+'/'+file),cv2.COLOR_BGR2GRAY))\n",
    "    \n",
    "images = np.array(images)"
   ]
  },
  {
   "cell_type": "code",
   "execution_count": 5,
   "metadata": {},
   "outputs": [],
   "source": [
    "images = images/255.0\n",
    "images = np.reshape(images, (images.shape[0], 160,160,1))"
   ]
  },
  {
   "cell_type": "markdown",
   "metadata": {},
   "source": [
    "### One-hot encoding for mask/no-mask"
   ]
  },
  {
   "cell_type": "code",
   "execution_count": 6,
   "metadata": {},
   "outputs": [
    {
     "name": "stdout",
     "output_type": "stream",
     "text": [
      "y shape (2767, 2)\n",
      "x shape (2767, 160, 160, 1)\n"
     ]
    }
   ],
   "source": [
    "# store labels (mask = 1,0 and  no mask = 0,1)\n",
    "n_mask = len(list(os.listdir(mask)))\n",
    "n_no_mask = len(list(os.listdir(no_mask)))\n",
    "labels = np.zeros(( n_mask  + n_no_mask, 2  ))\n",
    "labels[:n_mask,0] = 1\n",
    "labels[n_mask:,1] = 1\n",
    "print('y shape',labels.shape)   #(2767, 2)\n",
    "print('x shape',images.shape)   #(2767, 160, 160, 1)"
   ]
  },
  {
   "cell_type": "markdown",
   "metadata": {},
   "source": [
    "### shuffle and split data"
   ]
  },
  {
   "cell_type": "code",
   "execution_count": 7,
   "metadata": {},
   "outputs": [],
   "source": [
    "data = np.array(data)\n",
    "data_size = labels.shape[0]\n",
    "index = list(range(data_size))\n",
    "shuffle(index)\n",
    "index = np.array(index)\n",
    "images =   images[index]\n",
    "data =   data[index]\n",
    "labels =   labels[index,:]\n",
    "x_train =  images[:int(0.8*data_size)]\n",
    "y_train =  labels[:int(0.8*data_size),:] \n",
    "data_train = data[:int(0.8*data_size)]\n",
    "x_test =   images[int(0.8*data_size):]\n",
    "y_test =   labels[int(0.8*data_size):,:]\n",
    "data_test = data[int(0.8*data_size):]"
   ]
  },
  {
   "cell_type": "markdown",
   "metadata": {},
   "source": [
    "### initialize model parameters"
   ]
  },
  {
   "cell_type": "code",
   "execution_count": 8,
   "metadata": {},
   "outputs": [],
   "source": [
    "img_rows, img_cols = images.shape[1], images.shape[2]\n",
    "input_shape = (images.shape[1], images.shape[2], images.shape[3])\n",
    "batch_size = 1\n",
    "num_classes = 2"
   ]
  },
  {
   "cell_type": "markdown",
   "metadata": {},
   "source": [
    "### Create Model"
   ]
  },
  {
   "cell_type": "code",
   "execution_count": 9,
   "metadata": {},
   "outputs": [
    {
     "name": "stdout",
     "output_type": "stream",
     "text": [
      "Model: \"sequential_1\"\n",
      "_________________________________________________________________\n",
      "Layer (type)                 Output Shape              Param #   \n",
      "=================================================================\n",
      "conv2d_1 (Conv2D)            (None, 158, 158, 64)      640       \n",
      "_________________________________________________________________\n",
      "max_pooling2d_1 (MaxPooling2 (None, 79, 79, 64)        0         \n",
      "_________________________________________________________________\n",
      "conv2d_2 (Conv2D)            (None, 77, 77, 32)        18464     \n",
      "_________________________________________________________________\n",
      "max_pooling2d_2 (MaxPooling2 (None, 38, 38, 32)        0         \n",
      "_________________________________________________________________\n",
      "conv2d_3 (Conv2D)            (None, 36, 36, 64)        18496     \n",
      "_________________________________________________________________\n",
      "max_pooling2d_3 (MaxPooling2 (None, 18, 18, 64)        0         \n",
      "_________________________________________________________________\n",
      "dropout_1 (Dropout)          (None, 18, 18, 64)        0         \n",
      "_________________________________________________________________\n",
      "flatten_1 (Flatten)          (None, 20736)             0         \n",
      "_________________________________________________________________\n",
      "dense_1 (Dense)              (None, 64)                1327168   \n",
      "_________________________________________________________________\n",
      "dense_2 (Dense)              (None, 32)                2080      \n",
      "_________________________________________________________________\n",
      "dense_3 (Dense)              (None, 2)                 66        \n",
      "=================================================================\n",
      "Total params: 1,366,914\n",
      "Trainable params: 1,366,914\n",
      "Non-trainable params: 0\n",
      "_________________________________________________________________\n"
     ]
    }
   ],
   "source": [
    "model = Sequential()\n",
    "model.add(Conv2D(64, kernel_size=(3, 3),\n",
    "                 activation='relu',\n",
    "                 input_shape=images.shape[1:]))\n",
    "model.add(MaxPooling2D(pool_size=(2, 2)))\n",
    "\n",
    "model.add(Conv2D(32, (3, 3), activation='relu'))\n",
    "model.add(MaxPooling2D(pool_size=(2, 2)))\n",
    "\n",
    "model.add(Conv2D(64, (3, 3), activation='relu'))\n",
    "model.add(MaxPooling2D(pool_size=(2, 2)))\n",
    "\n",
    "model.add(Dropout(0.25))\n",
    "model.add(Flatten())\n",
    "\n",
    "model.add(Dense(64, activation='relu'))\n",
    "model.add(Dense(32, activation='relu'))\n",
    "model.add(Dense(num_classes, activation='softmax'))\n",
    "\n",
    "# compile the model\n",
    "model.compile(loss=keras.losses.categorical_crossentropy,\n",
    "              optimizer=keras.optimizers.Adam(learning_rate=0.001),\n",
    "              metrics=['accuracy'])\n",
    "model.summary()"
   ]
  },
  {
   "cell_type": "markdown",
   "metadata": {},
   "source": [
    "### Train the model"
   ]
  },
  {
   "cell_type": "code",
   "execution_count": 10,
   "metadata": {},
   "outputs": [
    {
     "name": "stdout",
     "output_type": "stream",
     "text": [
      "Train on 2213 samples, validate on 554 samples\n",
      "Epoch 1/20\n",
      "2213/2213 [==============================] - 330s 149ms/step - loss: 0.6993 - accuracy: 0.5468 - val_loss: 0.6927 - val_accuracy: 0.5181\n",
      "Epoch 2/20\n",
      "2213/2213 [==============================] - 321s 145ms/step - loss: 0.6112 - accuracy: 0.6258 - val_loss: 0.3598 - val_accuracy: 0.8394\n",
      "Epoch 3/20\n",
      "2213/2213 [==============================] - 328s 148ms/step - loss: 0.3108 - accuracy: 0.8789 - val_loss: 0.2690 - val_accuracy: 0.8953\n",
      "Epoch 4/20\n",
      "2213/2213 [==============================] - 329s 149ms/step - loss: 0.2297 - accuracy: 0.9141 - val_loss: 0.2705 - val_accuracy: 0.9097\n",
      "Epoch 5/20\n",
      "2213/2213 [==============================] - 327s 148ms/step - loss: 0.1733 - accuracy: 0.9372 - val_loss: 0.2045 - val_accuracy: 0.9296\n",
      "Epoch 6/20\n",
      "2213/2213 [==============================] - 312s 141ms/step - loss: 0.1214 - accuracy: 0.9535 - val_loss: 0.2974 - val_accuracy: 0.9134\n",
      "Epoch 7/20\n",
      "2213/2213 [==============================] - 299s 135ms/step - loss: 0.0723 - accuracy: 0.9729 - val_loss: 0.2586 - val_accuracy: 0.9116\n",
      "Epoch 8/20\n",
      "2213/2213 [==============================] - 194s 88ms/step - loss: 0.0545 - accuracy: 0.9788 - val_loss: 0.3029 - val_accuracy: 0.9368\n",
      "Epoch 9/20\n",
      "2213/2213 [==============================] - 188s 85ms/step - loss: 0.0642 - accuracy: 0.9806 - val_loss: 0.3542 - val_accuracy: 0.9477\n",
      "Epoch 10/20\n",
      "2213/2213 [==============================] - 184s 83ms/step - loss: 0.0347 - accuracy: 0.9896 - val_loss: 0.3396 - val_accuracy: 0.9368\n",
      "Epoch 11/20\n",
      "2213/2213 [==============================] - 187s 85ms/step - loss: 0.0380 - accuracy: 0.9864 - val_loss: 0.3226 - val_accuracy: 0.9440\n",
      "Epoch 12/20\n",
      "2213/2213 [==============================] - 178s 81ms/step - loss: 0.0258 - accuracy: 0.9950 - val_loss: 0.4377 - val_accuracy: 0.9368\n",
      "Epoch 13/20\n",
      "2213/2213 [==============================] - 174s 79ms/step - loss: 0.0194 - accuracy: 0.9946 - val_loss: 0.3815 - val_accuracy: 0.9332\n",
      "Epoch 14/20\n",
      "2213/2213 [==============================] - 111s 50ms/step - loss: 0.0333 - accuracy: 0.9864 - val_loss: 0.5049 - val_accuracy: 0.9386\n",
      "Epoch 15/20\n",
      "2213/2213 [==============================] - 96s 43ms/step - loss: 0.0325 - accuracy: 0.9932 - val_loss: 0.4704 - val_accuracy: 0.9495\n",
      "Epoch 16/20\n",
      "2213/2213 [==============================] - 98s 44ms/step - loss: 0.0288 - accuracy: 0.9937 - val_loss: 0.5717 - val_accuracy: 0.9332\n",
      "Epoch 17/20\n",
      "2213/2213 [==============================] - 100s 45ms/step - loss: 0.0270 - accuracy: 0.9910 - val_loss: 0.4846 - val_accuracy: 0.9368\n",
      "Epoch 18/20\n",
      "2213/2213 [==============================] - 96s 43ms/step - loss: 0.0156 - accuracy: 0.9955 - val_loss: 0.7137 - val_accuracy: 0.9296\n",
      "Epoch 19/20\n",
      "2213/2213 [==============================] - 97s 44ms/step - loss: 0.0201 - accuracy: 0.9932 - val_loss: 0.4839 - val_accuracy: 0.9422\n",
      "Epoch 20/20\n",
      "2213/2213 [==============================] - 95s 43ms/step - loss: 0.0179 - accuracy: 0.9941 - val_loss: 0.6590 - val_accuracy: 0.9296\n"
     ]
    },
    {
     "data": {
      "text/plain": [
       "<keras.callbacks.callbacks.History at 0x26119a443c8>"
      ]
     },
     "execution_count": 10,
     "metadata": {},
     "output_type": "execute_result"
    }
   ],
   "source": [
    "model.fit(x_train, y_train,\n",
    "          batch_size=batch_size,\n",
    "          epochs=20,\n",
    "          verbose=1,\n",
    "          validation_data=(x_test, y_test))"
   ]
  },
  {
   "cell_type": "markdown",
   "metadata": {},
   "source": [
    "### Evaluate model"
   ]
  },
  {
   "cell_type": "code",
   "execution_count": 13,
   "metadata": {},
   "outputs": [
    {
     "name": "stdout",
     "output_type": "stream",
     "text": [
      "Test loss: 0.6589809697634533\n",
      "Test accuracy: 0.929602861404419\n"
     ]
    }
   ],
   "source": [
    "score = model.evaluate(x_test, y_test, verbose=0)\n",
    "print('Test loss:', score[0])\n",
    "print('Test accuracy:', score[1])"
   ]
  },
  {
   "cell_type": "markdown",
   "metadata": {},
   "source": [
    "### Test model"
   ]
  },
  {
   "cell_type": "code",
   "execution_count": 15,
   "metadata": {},
   "outputs": [
    {
     "name": "stdout",
     "output_type": "stream",
     "text": [
      "['With Mask']\n"
     ]
    }
   ],
   "source": [
    "rand_int = randint(0, 552)\n",
    "m = model.predict(x_test[rand_int].reshape(-1,160,160,1)) == model.predict(x_test[rand_int].reshape(-1,160,160,1)).max()\n",
    "#plt.imshow(x_test[rand_int][:,:,::-1])\n",
    "print(np.array(['With Mask','Without Mask'])[m[0]])"
   ]
  },
  {
   "cell_type": "markdown",
   "metadata": {},
   "source": [
    "### Save the model"
   ]
  },
  {
   "cell_type": "code",
   "execution_count": 16,
   "metadata": {},
   "outputs": [],
   "source": [
    "# save the model\n",
    "modelsave_name = 'black_white_face_mask.h5'\n",
    "model.save(modelsave_name)"
   ]
  },
  {
   "cell_type": "code",
   "execution_count": null,
   "metadata": {},
   "outputs": [],
   "source": []
  }
 ],
 "metadata": {
  "kernelspec": {
   "display_name": "Python 3",
   "language": "python",
   "name": "python3"
  },
  "language_info": {
   "codemirror_mode": {
    "name": "ipython",
    "version": 3
   },
   "file_extension": ".py",
   "mimetype": "text/x-python",
   "name": "python",
   "nbconvert_exporter": "python",
   "pygments_lexer": "ipython3",
   "version": "3.7.6"
  }
 },
 "nbformat": 4,
 "nbformat_minor": 4
}
